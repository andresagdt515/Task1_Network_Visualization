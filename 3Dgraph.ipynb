{
 "cells": [
  {
   "cell_type": "code",
   "execution_count": 1,
   "metadata": {
    "scrolled": true
   },
   "outputs": [
    {
     "output_type": "display_data",
     "data": {
      "text/plain": "<IPython.core.display.HTML object>",
      "text/html": "<div id=\"graph-29947e28-3397-4637-88d5-1069a9e468e4\"></div>\n           <script type=\"text/javascript\">\n           require.config({baseUrl: '/',\n                             paths: {jgraph: ['nbextensions/jgraph.min', 'https://rawgit.com/patrickfuller/jgraph/master/js/build/jgraph.min']}});\n           require(['jgraph'], function () {\n               var $d = $('#graph-29947e28-3397-4637-88d5-1069a9e468e4');\n               $d.width(600); $d.height(400);\n               $d.jgraph = jQuery.extend({}, jgraph);\n               $d.jgraph.create($d, {nodeSize: 2.000000,\n                                     edgeSize: 0.250000,\n                                     defaultNodeColor: '0x5bc0de',\n                                     defaultEdgeColor: '0xaaaaaa',\n                                     shader: 'basic',\n                                     z: 100,\n                                     runOptimization: true,\n                                     directed: true,\n                                     showSave: false});\n               $d.jgraph.draw({\n    \"edges\": [\n        { \"size\": 1.3, \"source\": \"966\", \"target\": \"945\" },\n        { \"size\": 1.0, \"source\": \"966\", \"target\": \"879\" },\n        { \"size\": 0.9, \"source\": \"649\", \"target\": \"966\" },\n        { \"size\": 0.8, \"source\": \"941\", \"target\": \"966\" },\n        { \"size\": 0.8, \"source\": \"966\", \"target\": \"467\" },\n        { \"size\": 0.7000000000000001, \"source\": \"966\", \"target\": \"1042\" },\n        { \"size\": 0.7000000000000001, \"source\": \"966\", \"target\": \"785\" },\n        { \"size\": 0.7000000000000001, \"source\": \"966\", \"target\": \"619\" },\n        { \"size\": 0.7000000000000001, \"source\": \"457\", \"target\": \"966\" },\n        { \"size\": 0.6000000000000001, \"source\": \"639\", \"target\": \"966\" },\n        { \"size\": 0.6000000000000001, \"source\": \"747\", \"target\": \"966\" },\n        { \"size\": 0.6000000000000001, \"source\": \"185\", \"target\": \"966\" },\n        { \"size\": 0.6000000000000001, \"source\": \"349\", \"target\": \"966\" },\n        { \"size\": 0.6000000000000001, \"source\": \"966\", \"target\": \"639\" },\n        { \"size\": 0.6000000000000001, \"source\": \"1157\", \"target\": \"966\" },\n        { \"size\": 0.6000000000000001, \"source\": \"966\", \"target\": \"1152\" },\n        { \"size\": 0.6000000000000001, \"source\": \"966\", \"target\": \"517\" },\n        { \"size\": 0.6000000000000001, \"source\": \"966\", \"target\": \"158\" },\n        { \"size\": 0.6000000000000001, \"source\": \"552\", \"target\": \"966\" },\n        { \"size\": 0.6000000000000001, \"source\": \"966\", \"target\": \"498\" },\n        { \"size\": 0.6000000000000001, \"source\": \"574\", \"target\": \"966\" },\n        { \"size\": 0.5, \"source\": \"966\", \"target\": \"1157\" },\n        { \"size\": 0.5, \"source\": \"966\", \"target\": \"185\" },\n        { \"size\": 0.5, \"source\": \"966\", \"target\": \"1025\" },\n        { \"size\": 0.5, \"source\": \"813\", \"target\": \"966\" },\n        { \"size\": 0.5, \"source\": \"792\", \"target\": \"966\" },\n        { \"size\": 0.5, \"source\": \"792\", \"target\": \"652\" },\n        { \"size\": 0.5, \"source\": \"966\", \"target\": \"172\" },\n        { \"size\": 0.5, \"source\": \"1009\", \"target\": \"966\" },\n        { \"size\": 0.5, \"source\": \"966\", \"target\": \"3\" },\n        { \"size\": 0.5, \"source\": \"879\", \"target\": \"966\" },\n        { \"size\": 0.5, \"source\": \"709\", \"target\": \"966\" }\n    ],\n    \"nodes\": {\n        \"1009\": { \"color\": \"0xed8b00\" },\n        \"1025\": { \"color\": \"0xb1b3b3\" },\n        \"1042\": { \"color\": \"0xb1b3b3\" },\n        \"1152\": { \"color\": \"0xb1b3b3\" },\n        \"1157\": { \"color\": \"0xb1b3b3\" },\n        \"158\": { \"color\": \"0x66cc\" },\n        \"172\": { \"color\": \"0x66cc\" },\n        \"185\": { \"color\": \"0x66cc\" },\n        \"3\": { \"color\": \"0x66cc\" },\n        \"349\": { \"color\": \"0x66cc\" },\n        \"457\": { \"color\": \"0xa05eb5\" },\n        \"467\": { \"color\": \"0xa05eb5\" },\n        \"498\": { \"color\": \"0xa05eb5\" },\n        \"517\": { \"color\": \"0xa05eb5\" },\n        \"552\": { \"color\": \"0xa05eb5\" },\n        \"574\": { \"color\": \"0x965e\" },\n        \"619\": { \"color\": \"0x965e\" },\n        \"639\": { \"color\": \"0x965e\" },\n        \"649\": { \"color\": \"0x965e\" },\n        \"652\": { \"color\": \"0x965e\" },\n        \"709\": { \"color\": \"0xe40046\" },\n        \"747\": { \"color\": \"0xe40046\" },\n        \"785\": { \"color\": \"0xe40046\" },\n        \"792\": { \"color\": \"0xe40046\" },\n        \"813\": { \"color\": \"0xe40046\" },\n        \"879\": { \"color\": \"0xed8b00\" },\n        \"941\": { \"color\": \"0xed8b00\" },\n        \"945\": { \"color\": \"0xed8b00\" },\n        \"966\": { \"color\": \"0xed8b00\" }\n    }\n});\n\n               $d.resizable({\n                   aspectRatio: 600 / 400,\n                   resize: function (evt, ui) {\n                       $d.jgraph.renderer.setSize(ui.size.width,\n                                                  ui.size.height);\n                   }\n               });\n           });\n           </script>"
     },
     "metadata": {}
    }
   ],
   "source": [
    "import jgraph #import jgraph library \n",
    "import pandas as pd #import pandas library \n",
    "import json\n",
    "\n",
    "edges_df = pd.read_csv('edges.csv', sep = \";\")\n",
    "nodes_df = pd.read_csv('nodes.csv', sep = \";\")\n",
    "\n",
    "\n",
    "N = len(nodes_df)\n",
    "L = len(edges_df)\n",
    "\n",
    "\n",
    "edges=[{'source': str(edges_df['source_id'][k]), 'target': str(edges_df['target_id'][k]),'size' : edges_df['weights'][k]*0.1} for k in range(L)]\n",
    "\n",
    "nodes = { str(nodes_df['node_id'][k]) : {'color' : hex(int(nodes_df['node_color'][k][1:],16))} for k in range(N)}\n",
    "\n",
    "graph = {\n",
    "    'edges': edges,\n",
    "    'nodes': nodes\n",
    "}\n",
    "\n",
    "jgraph.draw(graph, directed=True)"
   ]
  },
  {
   "cell_type": "raw",
   "metadata": {},
   "source": []
  }
 ],
 "metadata": {
  "kernelspec": {
   "name": "python383jvsc74a57bd00b40305943e27988c170a3771fc9e8eb96cca44af26ff32afc0a69c4a1972adf",
   "display_name": "Python 3.8.3 64-bit (conda)"
  },
  "language_info": {
   "codemirror_mode": {
    "name": "ipython",
    "version": 3
   },
   "file_extension": ".py",
   "mimetype": "text/x-python",
   "name": "python",
   "nbconvert_exporter": "python",
   "pygments_lexer": "ipython3",
   "version": "3.8.3"
  }
 },
 "nbformat": 4,
 "nbformat_minor": 4
}