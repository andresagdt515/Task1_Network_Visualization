{
 "cells": [
  {
   "cell_type": "code",
   "execution_count": 3,
   "metadata": {},
   "outputs": [],
   "source": [
    "import jgraph #import jgraph library \n",
    "import pandas as pd #import pandas library \n",
    "import json\n",
    "\n",
    "edges_df = pd.read_csv('edges.csv', sep = \";\")\n",
    "nodes_df = pd.read_csv('nodes.csv', sep = \";\")\n",
    "\n",
    "\n",
    "N = len(nodes_df)\n",
    "L = len(edges_df)\n",
    "\n",
    "nodes = [{ 'id': str(nodes_df['node_id'][k]), 'color' : hex(int(nodes_df['node_color'][k][1:],16)), 'label': nodes_df['node_label'][k]} for k in range(N)]\n",
    "\n",
    "edges=[{'source': str(edges_df['source_id'][k]), 'target': str(edges_df['target_id'][k]), 'weight' : edges_df['weights'][k]*0.1} for k in range(L)]\n",
    "\n",
    "graph = {\n",
    "    'nodes': nodes,\n",
    "    'edges': edges\n",
    "}\n",
    "\n",
    "with open(\"data.json\", \"w\") as f: f.write(json.dumps(graph))"
   ]
  }
 ],
 "metadata": {
  "kernelspec": {
   "display_name": "Python 3",
   "language": "python",
   "name": "python3"
  },
  "language_info": {
   "codemirror_mode": {
    "name": "ipython",
    "version": 3
   },
   "file_extension": ".py",
   "mimetype": "text/x-python",
   "name": "python",
   "nbconvert_exporter": "python",
   "pygments_lexer": "ipython3",
   "version": "3.8.3"
  }
 },
 "nbformat": 4,
 "nbformat_minor": 4
}
